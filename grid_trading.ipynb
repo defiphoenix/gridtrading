{
 "cells": [
  {
   "cell_type": "code",
   "execution_count": 1,
   "id": "375bd8f6-33a4-4577-8979-6ffa90e150cf",
   "metadata": {},
   "outputs": [],
   "source": [
    "import pandas as pd\n",
    "import datetime\n",
    "import pyupbit\n",
    "\n",
    "import math\n",
    "import time"
   ]
  },
  {
   "cell_type": "code",
   "execution_count": 2,
   "id": "5b67985c-2617-43f4-b626-07713509dea5",
   "metadata": {},
   "outputs": [],
   "source": [
    "# utils\n",
    "\n",
    "def make_levels(mode, upper, lower, grids):\n",
    "    # grid level 생성\n",
    "    lower = pyupbit.get_tick_size(lower)\n",
    "    upper = pyupbit.get_tick_size(upper)\n",
    "    levels = [lower]\n",
    "    cnt = 1\n",
    "    # 동일한 가격 차이로 levels 생성\n",
    "    if mode == \"Arithmetic\":\n",
    "        while cnt < grids:\n",
    "            diff =  (upper - lower)/(grids) # 주문들 사이의 가격 차이\n",
    "            price = lower + diff * cnt\n",
    "            price = pyupbit.get_tick_size(price) # 업비트 호가에 맞춰서 조정\n",
    "            levels.append(price)\n",
    "            cnt += 1\n",
    "    # 동일한 가격 비율로 levels 생성\n",
    "    elif mode == \"Geometric\":\n",
    "        while cnt < grids:\n",
    "            diff = (upper / lower) ** (1/(grids)) # 주문들 사이의 가격 비율 차이\n",
    "            price = lower * (diff ** cnt)\n",
    "            price = pyupbit.get_tick_size(price) # 업비트 호가에 맞춰서 조정\n",
    "            levels.append(price)\n",
    "            cnt += 1\n",
    "            \n",
    "    # # 마지막에 UPPER 값 넣기\n",
    "    # levels.append(upper)\n",
    "    \n",
    "    return levels, diff\n",
    "\n",
    "# 호가 단위 함수\n",
    "def get_price_scale_tick(_price):   \n",
    "    if _price >= 2000000: \n",
    "        return -3, 1000\n",
    "    elif _price >= 1000000: \n",
    "        return -2, 500\n",
    "    elif _price >= 500000: \n",
    "        return -2, 100\n",
    "    elif _price >= 100000: \n",
    "        return -1, 50\n",
    "    elif _price >= 10000: \n",
    "        return -1, 10\n",
    "    elif _price >= 1000: \n",
    "        return 0, 5\n",
    "    elif _price >= 100: \n",
    "        return 0, 1\n",
    "    elif _price >= 10: \n",
    "        return 1, 0.1\n",
    "    elif _price >= 0: \n",
    "        return 2, 0.01"
   ]
  },
  {
   "cell_type": "code",
   "execution_count": 11,
   "id": "a1137d0a-59fc-428f-b192-6196cb94787f",
   "metadata": {},
   "outputs": [],
   "source": [
    "# upbit 연결\n",
    "with open(\"upbit_key.txt\", 'r') as f:\n",
    "    lines = f.read().split('\\n')\n",
    "    access_key = lines[0]\n",
    "    secret_key = lines[1]\n",
    "upbit = pyupbit.Upbit(access_key, secret_key)\n",
    "\n",
    "# 지정 파라미터\n",
    "INTERVAL = 30 # 변동성 계산할 때 몇분 봉 사용\n",
    "STD_NUM = 40 # 변동성 계산할 때 과거 몇개 사용\n",
    "LOWER_STD = 2 # 하한선 변동성 배수\n",
    "MODE = \"Arithmetic\" # Arithmetic: 동일한 가격 차이 / Geometric: 동일한 가격 비율 차이\n",
    "GRIDS = 6 # 그리드 수\n",
    "COIN = \"BTC\" # 거래할 코인\n",
    "BUDGET = 80000 # 사용할 예산\n",
    "\n",
    "STOP_LOSS = 10 # 손절매 퍼센트\n",
    "RESET_GRID = 5 # 계속 상승할 경우 그리드 리셋하는 퍼센트"
   ]
  },
  {
   "cell_type": "code",
   "execution_count": 12,
   "id": "157c9ea8-eb21-4b96-a284-03312eb49e67",
   "metadata": {},
   "outputs": [
    {
     "name": "stdout",
     "output_type": "stream",
     "text": [
      "2022-06-21 14:18:39\n",
      "BTC 현재가(KRW): 26773000.0\n",
      "호가단위(KRW): 1000\n",
      "30분봉 40개 변동성: 259962.00\n",
      "Levels: [26253000, 26339000, 26426000, 26513000, 26599000, 26686000]\n",
      "Difference(KRW): 86666.6667\n",
      "Volume(BTC): 0.00049801\n",
      "수익률: 0.32%\n"
     ]
    }
   ],
   "source": [
    "# 현재가 조회\n",
    "current = pyupbit.get_current_price(f\"KRW-{COIN}\")\n",
    "\n",
    "# 잔고 조회\n",
    "balance_KRW = upbit.get_balance(\"KRW\")\n",
    "balance_coin = upbit.get_balance(COIN)\n",
    "if balance_coin != 0:\n",
    "    raise Exception(\"코인 수가 0이 아닙니다.\")\n",
    "\n",
    "print(datetime.datetime.now().strftime('%Y-%m-%d %H:%M:%S'))\n",
    "print(f\"{COIN} 현재가(KRW):\",current)\n",
    "\n",
    "# 호가 단위\n",
    "_, scale = get_price_scale_tick(current)\n",
    "print(\"호가단위(KRW):\", scale)\n",
    "\n",
    "# 과거 데이터 조회해서 변동성 계산\n",
    "df = pyupbit.get_ohlcv(f\"KRW-{COIN}\", interval=f\"minute{INTERVAL}\")\n",
    "std = df.iloc[-STD_NUM:].close.std()\n",
    "print(f\"{INTERVAL}분봉 {STD_NUM}개 변동성: {std:.2f}\")\n",
    "\n",
    "# 상한선 하한선 계산|\n",
    "upper = current \n",
    "lower = current - LOWER_STD*std\n",
    "if current < upper:\n",
    "    raise Exception(\"상한선은 현재가보다 낮아야합니다.\")\n",
    "\n",
    "# grid levels 생성\n",
    "levels, diff = make_levels(MODE, upper, lower, GRIDS)\n",
    "print(\"Levels:\", levels)\n",
    "print(f\"Difference(KRW): {diff:.4f}\")\n",
    "\n",
    "# 주문량 생성\n",
    "volume = math.floor((BUDGET / GRIDS)/current*1e8)/1e8 # 업비트는 소수 8자리까지 주문 가능\n",
    "if volume * current < 5000: # 최소 주문 단위 5000보다 작을 경우 error\n",
    "    raise Exception(f\"최소 주문 단위보다 작습니다. {volume * current:.2f}원\")\n",
    "print(f\"Volume({COIN}):\", volume)\n",
    "\n",
    "print(f\"수익률: {diff/current*100:.2f}%\")"
   ]
  },
  {
   "cell_type": "code",
   "execution_count": 7,
   "id": "b1c257f5-1ea2-4b51-9e22-7d881cf50cab",
   "metadata": {
    "scrolled": true,
    "tags": []
   },
   "outputs": [
    {
     "name": "stderr",
     "output_type": "stream",
     "text": [
      "ERROR:root:Internal Python error in the inspect module.\n",
      "Below is the traceback from this internal error.\n",
      "\n"
     ]
    },
    {
     "name": "stdout",
     "output_type": "stream",
     "text": [
      "Traceback (most recent call last):\n",
      "  File \"c:\\users\\felab\\appdata\\local\\programs\\python\\python37\\lib\\site-packages\\IPython\\core\\interactiveshell.py\", line 3457, in run_code\n",
      "    exec(code_obj, self.user_global_ns, self.user_ns)\n",
      "  File \"C:\\Users\\felab\\AppData\\Local\\Temp/ipykernel_30016/1460561289.py\", line 7, in <module>\n",
      "    time.sleep(0.2) # 0.2초마다 코인 보유량 가져오기\n",
      "KeyboardInterrupt\n",
      "\n",
      "During handling of the above exception, another exception occurred:\n",
      "\n",
      "Traceback (most recent call last):\n",
      "  File \"c:\\users\\felab\\appdata\\local\\programs\\python\\python37\\lib\\site-packages\\IPython\\core\\interactiveshell.py\", line 2077, in showtraceback\n",
      "    stb = value._render_traceback_()\n",
      "AttributeError: 'KeyboardInterrupt' object has no attribute '_render_traceback_'\n",
      "\n",
      "During handling of the above exception, another exception occurred:\n",
      "\n",
      "Traceback (most recent call last):\n",
      "  File \"c:\\users\\felab\\appdata\\local\\programs\\python\\python37\\lib\\site-packages\\IPython\\core\\ultratb.py\", line 1101, in get_records\n",
      "    return _fixed_getinnerframes(etb, number_of_lines_of_context, tb_offset)\n",
      "  File \"c:\\users\\felab\\appdata\\local\\programs\\python\\python37\\lib\\site-packages\\IPython\\core\\ultratb.py\", line 248, in wrapped\n",
      "    return f(*args, **kwargs)\n",
      "  File \"c:\\users\\felab\\appdata\\local\\programs\\python\\python37\\lib\\site-packages\\IPython\\core\\ultratb.py\", line 281, in _fixed_getinnerframes\n",
      "    records = fix_frame_records_filenames(inspect.getinnerframes(etb, context))\n",
      "  File \"c:\\users\\felab\\appdata\\local\\programs\\python\\python37\\lib\\inspect.py\", line 1502, in getinnerframes\n",
      "    frameinfo = (tb.tb_frame,) + getframeinfo(tb, context)\n",
      "  File \"c:\\users\\felab\\appdata\\local\\programs\\python\\python37\\lib\\inspect.py\", line 1460, in getframeinfo\n",
      "    filename = getsourcefile(frame) or getfile(frame)\n",
      "  File \"c:\\users\\felab\\appdata\\local\\programs\\python\\python37\\lib\\inspect.py\", line 696, in getsourcefile\n",
      "    if getattr(getmodule(object, filename), '__loader__', None) is not None:\n",
      "  File \"c:\\users\\felab\\appdata\\local\\programs\\python\\python37\\lib\\inspect.py\", line 739, in getmodule\n",
      "    f = getabsfile(module)\n",
      "  File \"c:\\users\\felab\\appdata\\local\\programs\\python\\python37\\lib\\inspect.py\", line 708, in getabsfile\n",
      "    _filename = getsourcefile(object) or getfile(object)\n",
      "  File \"c:\\users\\felab\\appdata\\local\\programs\\python\\python37\\lib\\inspect.py\", line 693, in getsourcefile\n",
      "    if os.path.exists(filename):\n",
      "  File \"c:\\users\\felab\\appdata\\local\\programs\\python\\python37\\lib\\genericpath.py\", line 19, in exists\n",
      "    os.stat(path)\n",
      "KeyboardInterrupt\n"
     ]
    },
    {
     "ename": "TypeError",
     "evalue": "object of type 'NoneType' has no len()",
     "output_type": "error",
     "traceback": [
      "\u001b[1;31m---------------------------------------------------------------------------\u001b[0m",
      "\u001b[1;31mKeyboardInterrupt\u001b[0m                         Traceback (most recent call last)",
      "    \u001b[1;31m[... skipping hidden 1 frame]\u001b[0m\n",
      "\u001b[1;32m~\\AppData\\Local\\Temp/ipykernel_30016/1460561289.py\u001b[0m in \u001b[0;36m<module>\u001b[1;34m\u001b[0m\n\u001b[0;32m      6\u001b[0m \u001b[1;32mwhile\u001b[0m \u001b[1;32mTrue\u001b[0m\u001b[1;33m:\u001b[0m\u001b[1;33m\u001b[0m\u001b[1;33m\u001b[0m\u001b[0m\n\u001b[1;32m----> 7\u001b[1;33m     \u001b[0mtime\u001b[0m\u001b[1;33m.\u001b[0m\u001b[0msleep\u001b[0m\u001b[1;33m(\u001b[0m\u001b[1;36m0.2\u001b[0m\u001b[1;33m)\u001b[0m \u001b[1;31m# 0.2초마다 코인 보유량 가져오기\u001b[0m\u001b[1;33m\u001b[0m\u001b[1;33m\u001b[0m\u001b[0m\n\u001b[0m\u001b[0;32m      8\u001b[0m     \u001b[0mnow_open\u001b[0m \u001b[1;33m=\u001b[0m \u001b[0mlen\u001b[0m\u001b[1;33m(\u001b[0m\u001b[0mupbit\u001b[0m\u001b[1;33m.\u001b[0m\u001b[0mget_order\u001b[0m\u001b[1;33m(\u001b[0m\u001b[1;34mf\"KRW-{COIN}\"\u001b[0m\u001b[1;33m)\u001b[0m\u001b[1;33m)\u001b[0m \u001b[1;31m# 현재 미체결 주문수\u001b[0m\u001b[1;33m\u001b[0m\u001b[1;33m\u001b[0m\u001b[0m\n",
      "\u001b[1;31mKeyboardInterrupt\u001b[0m: ",
      "\nDuring handling of the above exception, another exception occurred:\n",
      "\u001b[1;31mAttributeError\u001b[0m                            Traceback (most recent call last)",
      "\u001b[1;32mc:\\users\\felab\\appdata\\local\\programs\\python\\python37\\lib\\site-packages\\IPython\\core\\interactiveshell.py\u001b[0m in \u001b[0;36mshowtraceback\u001b[1;34m(self, exc_tuple, filename, tb_offset, exception_only, running_compiled_code)\u001b[0m\n\u001b[0;32m   2076\u001b[0m                         \u001b[1;31m# in the engines. This should return a list of strings.\u001b[0m\u001b[1;33m\u001b[0m\u001b[1;33m\u001b[0m\u001b[1;33m\u001b[0m\u001b[0m\n\u001b[1;32m-> 2077\u001b[1;33m                         \u001b[0mstb\u001b[0m \u001b[1;33m=\u001b[0m \u001b[0mvalue\u001b[0m\u001b[1;33m.\u001b[0m\u001b[0m_render_traceback_\u001b[0m\u001b[1;33m(\u001b[0m\u001b[1;33m)\u001b[0m\u001b[1;33m\u001b[0m\u001b[1;33m\u001b[0m\u001b[0m\n\u001b[0m\u001b[0;32m   2078\u001b[0m                     \u001b[1;32mexcept\u001b[0m \u001b[0mException\u001b[0m\u001b[1;33m:\u001b[0m\u001b[1;33m\u001b[0m\u001b[1;33m\u001b[0m\u001b[0m\n",
      "\u001b[1;31mAttributeError\u001b[0m: 'KeyboardInterrupt' object has no attribute '_render_traceback_'",
      "\nDuring handling of the above exception, another exception occurred:\n",
      "\u001b[1;31mTypeError\u001b[0m                                 Traceback (most recent call last)",
      "    \u001b[1;31m[... skipping hidden 1 frame]\u001b[0m\n",
      "\u001b[1;32mc:\\users\\felab\\appdata\\local\\programs\\python\\python37\\lib\\site-packages\\IPython\\core\\interactiveshell.py\u001b[0m in \u001b[0;36mshowtraceback\u001b[1;34m(self, exc_tuple, filename, tb_offset, exception_only, running_compiled_code)\u001b[0m\n\u001b[0;32m   2078\u001b[0m                     \u001b[1;32mexcept\u001b[0m \u001b[0mException\u001b[0m\u001b[1;33m:\u001b[0m\u001b[1;33m\u001b[0m\u001b[1;33m\u001b[0m\u001b[0m\n\u001b[0;32m   2079\u001b[0m                         stb = self.InteractiveTB.structured_traceback(etype,\n\u001b[1;32m-> 2080\u001b[1;33m                                             value, tb, tb_offset=tb_offset)\n\u001b[0m\u001b[0;32m   2081\u001b[0m \u001b[1;33m\u001b[0m\u001b[0m\n\u001b[0;32m   2082\u001b[0m                     \u001b[0mself\u001b[0m\u001b[1;33m.\u001b[0m\u001b[0m_showtraceback\u001b[0m\u001b[1;33m(\u001b[0m\u001b[0metype\u001b[0m\u001b[1;33m,\u001b[0m \u001b[0mvalue\u001b[0m\u001b[1;33m,\u001b[0m \u001b[0mstb\u001b[0m\u001b[1;33m)\u001b[0m\u001b[1;33m\u001b[0m\u001b[1;33m\u001b[0m\u001b[0m\n",
      "\u001b[1;32mc:\\users\\felab\\appdata\\local\\programs\\python\\python37\\lib\\site-packages\\IPython\\core\\ultratb.py\u001b[0m in \u001b[0;36mstructured_traceback\u001b[1;34m(self, etype, value, tb, tb_offset, number_of_lines_of_context)\u001b[0m\n\u001b[0;32m   1366\u001b[0m             \u001b[0mself\u001b[0m\u001b[1;33m.\u001b[0m\u001b[0mtb\u001b[0m \u001b[1;33m=\u001b[0m \u001b[0mtb\u001b[0m\u001b[1;33m\u001b[0m\u001b[1;33m\u001b[0m\u001b[0m\n\u001b[0;32m   1367\u001b[0m         return FormattedTB.structured_traceback(\n\u001b[1;32m-> 1368\u001b[1;33m             self, etype, value, tb, tb_offset, number_of_lines_of_context)\n\u001b[0m\u001b[0;32m   1369\u001b[0m \u001b[1;33m\u001b[0m\u001b[0m\n\u001b[0;32m   1370\u001b[0m \u001b[1;33m\u001b[0m\u001b[0m\n",
      "\u001b[1;32mc:\\users\\felab\\appdata\\local\\programs\\python\\python37\\lib\\site-packages\\IPython\\core\\ultratb.py\u001b[0m in \u001b[0;36mstructured_traceback\u001b[1;34m(self, etype, value, tb, tb_offset, number_of_lines_of_context)\u001b[0m\n\u001b[0;32m   1266\u001b[0m             \u001b[1;31m# Verbose modes need a full traceback\u001b[0m\u001b[1;33m\u001b[0m\u001b[1;33m\u001b[0m\u001b[1;33m\u001b[0m\u001b[0m\n\u001b[0;32m   1267\u001b[0m             return VerboseTB.structured_traceback(\n\u001b[1;32m-> 1268\u001b[1;33m                 \u001b[0mself\u001b[0m\u001b[1;33m,\u001b[0m \u001b[0metype\u001b[0m\u001b[1;33m,\u001b[0m \u001b[0mvalue\u001b[0m\u001b[1;33m,\u001b[0m \u001b[0mtb\u001b[0m\u001b[1;33m,\u001b[0m \u001b[0mtb_offset\u001b[0m\u001b[1;33m,\u001b[0m \u001b[0mnumber_of_lines_of_context\u001b[0m\u001b[1;33m\u001b[0m\u001b[1;33m\u001b[0m\u001b[0m\n\u001b[0m\u001b[0;32m   1269\u001b[0m             )\n\u001b[0;32m   1270\u001b[0m         \u001b[1;32melif\u001b[0m \u001b[0mmode\u001b[0m \u001b[1;33m==\u001b[0m \u001b[1;34m'Minimal'\u001b[0m\u001b[1;33m:\u001b[0m\u001b[1;33m\u001b[0m\u001b[1;33m\u001b[0m\u001b[0m\n",
      "\u001b[1;32mc:\\users\\felab\\appdata\\local\\programs\\python\\python37\\lib\\site-packages\\IPython\\core\\ultratb.py\u001b[0m in \u001b[0;36mstructured_traceback\u001b[1;34m(self, etype, evalue, etb, tb_offset, number_of_lines_of_context)\u001b[0m\n\u001b[0;32m   1123\u001b[0m \u001b[1;33m\u001b[0m\u001b[0m\n\u001b[0;32m   1124\u001b[0m         formatted_exception = self.format_exception_as_a_whole(etype, evalue, etb, number_of_lines_of_context,\n\u001b[1;32m-> 1125\u001b[1;33m                                                                tb_offset)\n\u001b[0m\u001b[0;32m   1126\u001b[0m \u001b[1;33m\u001b[0m\u001b[0m\n\u001b[0;32m   1127\u001b[0m         \u001b[0mcolors\u001b[0m \u001b[1;33m=\u001b[0m \u001b[0mself\u001b[0m\u001b[1;33m.\u001b[0m\u001b[0mColors\u001b[0m  \u001b[1;31m# just a shorthand + quicker name lookup\u001b[0m\u001b[1;33m\u001b[0m\u001b[1;33m\u001b[0m\u001b[0m\n",
      "\u001b[1;32mc:\\users\\felab\\appdata\\local\\programs\\python\\python37\\lib\\site-packages\\IPython\\core\\ultratb.py\u001b[0m in \u001b[0;36mformat_exception_as_a_whole\u001b[1;34m(self, etype, evalue, etb, number_of_lines_of_context, tb_offset)\u001b[0m\n\u001b[0;32m   1080\u001b[0m \u001b[1;33m\u001b[0m\u001b[0m\n\u001b[0;32m   1081\u001b[0m \u001b[1;33m\u001b[0m\u001b[0m\n\u001b[1;32m-> 1082\u001b[1;33m         \u001b[0mlast_unique\u001b[0m\u001b[1;33m,\u001b[0m \u001b[0mrecursion_repeat\u001b[0m \u001b[1;33m=\u001b[0m \u001b[0mfind_recursion\u001b[0m\u001b[1;33m(\u001b[0m\u001b[0morig_etype\u001b[0m\u001b[1;33m,\u001b[0m \u001b[0mevalue\u001b[0m\u001b[1;33m,\u001b[0m \u001b[0mrecords\u001b[0m\u001b[1;33m)\u001b[0m\u001b[1;33m\u001b[0m\u001b[1;33m\u001b[0m\u001b[0m\n\u001b[0m\u001b[0;32m   1083\u001b[0m \u001b[1;33m\u001b[0m\u001b[0m\n\u001b[0;32m   1084\u001b[0m         \u001b[0mframes\u001b[0m \u001b[1;33m=\u001b[0m \u001b[0mself\u001b[0m\u001b[1;33m.\u001b[0m\u001b[0mformat_records\u001b[0m\u001b[1;33m(\u001b[0m\u001b[0mrecords\u001b[0m\u001b[1;33m,\u001b[0m \u001b[0mlast_unique\u001b[0m\u001b[1;33m,\u001b[0m \u001b[0mrecursion_repeat\u001b[0m\u001b[1;33m)\u001b[0m\u001b[1;33m\u001b[0m\u001b[1;33m\u001b[0m\u001b[0m\n",
      "\u001b[1;32mc:\\users\\felab\\appdata\\local\\programs\\python\\python37\\lib\\site-packages\\IPython\\core\\ultratb.py\u001b[0m in \u001b[0;36mfind_recursion\u001b[1;34m(etype, value, records)\u001b[0m\n\u001b[0;32m    380\u001b[0m     \u001b[1;31m# first frame (from in to out) that looks different.\u001b[0m\u001b[1;33m\u001b[0m\u001b[1;33m\u001b[0m\u001b[1;33m\u001b[0m\u001b[0m\n\u001b[0;32m    381\u001b[0m     \u001b[1;32mif\u001b[0m \u001b[1;32mnot\u001b[0m \u001b[0mis_recursion_error\u001b[0m\u001b[1;33m(\u001b[0m\u001b[0metype\u001b[0m\u001b[1;33m,\u001b[0m \u001b[0mvalue\u001b[0m\u001b[1;33m,\u001b[0m \u001b[0mrecords\u001b[0m\u001b[1;33m)\u001b[0m\u001b[1;33m:\u001b[0m\u001b[1;33m\u001b[0m\u001b[1;33m\u001b[0m\u001b[0m\n\u001b[1;32m--> 382\u001b[1;33m         \u001b[1;32mreturn\u001b[0m \u001b[0mlen\u001b[0m\u001b[1;33m(\u001b[0m\u001b[0mrecords\u001b[0m\u001b[1;33m)\u001b[0m\u001b[1;33m,\u001b[0m \u001b[1;36m0\u001b[0m\u001b[1;33m\u001b[0m\u001b[1;33m\u001b[0m\u001b[0m\n\u001b[0m\u001b[0;32m    383\u001b[0m \u001b[1;33m\u001b[0m\u001b[0m\n\u001b[0;32m    384\u001b[0m     \u001b[1;31m# Select filename, lineno, func_name to track frames with\u001b[0m\u001b[1;33m\u001b[0m\u001b[1;33m\u001b[0m\u001b[1;33m\u001b[0m\u001b[0m\n",
      "\u001b[1;31mTypeError\u001b[0m: object of type 'NoneType' has no len()"
     ]
    }
   ],
   "source": [
    "# 초기 매수 주문\n",
    "for price in levels:\n",
    "    ret = upbit.buy_limit_order(f\"KRW-{COIN}\", price, volume) # 지정된 가격에 매수 주문\n",
    "    time.sleep(0.1)\n",
    "\n",
    "while True:\n",
    "    time.sleep(0.2) # 0.2초마다 코인 보유량 가져오기\n",
    "    now_open = len(upbit.get_order(f\"KRW-{COIN}\")) # 현재 미체결 주문수\n",
    "    \n",
    "    # 미체결 주문수가 GRIDS와 다르면 추가 주문\n",
    "    if GRIDS != now_open:\n",
    "        balance_coin = upbit.get_balance(COIN) # 코인 보유량으로 매수 매도 판단\n",
    "        last_price = pyupbit.get_current_price(f\"KRW-{COIN}\") # 최근 체결 가격\n",
    "        \n",
    "        if balance_coin != 0: # 보유량이 0이 아니면 최근 체결은 매수\n",
    "            side = \"bid\"\n",
    "            price = last_price + diff # 매도 목표가는 diff 만큼 더한 값\n",
    "            price = pyupbit.get_tick_size(price)\n",
    "            ret = upbit.sell_limit_order(f\"KRW-{COIN}\", price, volume)\n",
    "            \n",
    "        else: # 보유량이 0이면 최근 체결은 매도\n",
    "            side = \"ask\"\n",
    "            price = last_price - diff # 매수 목표가는 diff 만큼 뺀 값\n",
    "            price = pyupbit.get_tick_size(price)\n",
    "            ret = upbit.buy_limit_order(f\"KRW-{COIN}\", price, volume)\n",
    "        \n",
    "        # 최근 체결 정보 표시\n",
    "        print(\"\")\n",
    "        print(datetime.datetime.now().strftime('%Y-%m-%d %H:%M:%S'))\n",
    "        print(f\"{side} -> {last_price}KRW  {volume}{COIN} 체결\")\n",
    "        print(f\"보유 자산(KRW) {upbit.get_balance('KRW')}\")\n",
    "        print(f\"보유 자산({COIN}) {upbit.get_balance(COIN)}\")\n",
    "        # print(ret)\n",
    "            \n",
    "    # print(datetime.datetime.now().strftime('%Y-%m-%d %H:%M:%S'))\n",
    "    # print(f\"{COIN} 현재가(KRW):\",current)"
   ]
  },
  {
   "cell_type": "code",
   "execution_count": null,
   "id": "fa29ddda-d198-44d7-a784-41d5ab2b5dac",
   "metadata": {},
   "outputs": [],
   "source": []
  },
  {
   "cell_type": "code",
   "execution_count": null,
   "id": "c2d0a1f3-34a0-47b1-aaca-06546285c8dc",
   "metadata": {},
   "outputs": [],
   "source": []
  },
  {
   "cell_type": "code",
   "execution_count": 88,
   "id": "520f95be-dc01-4663-9973-c7b4a21bca3a",
   "metadata": {},
   "outputs": [],
   "source": [
    "# STOP LOSS\n",
    "avg_price = upbit.get_balances(COIN)"
   ]
  },
  {
   "cell_type": "code",
   "execution_count": 89,
   "id": "65ab665a-df54-4367-9f26-f7fb3159f596",
   "metadata": {},
   "outputs": [
    {
     "data": {
      "text/plain": [
       "([{'currency': 'KRW',\n",
       "   'balance': '99733.47805922',\n",
       "   'locked': '0.0',\n",
       "   'avg_buy_price': '0',\n",
       "   'avg_buy_price_modified': True,\n",
       "   'unit_currency': 'KRW'}],\n",
       " {'group': 'default', 'min': 898, 'sec': 29})"
      ]
     },
     "execution_count": 89,
     "metadata": {},
     "output_type": "execute_result"
    }
   ],
   "source": [
    "avg_price"
   ]
  },
  {
   "cell_type": "code",
   "execution_count": null,
   "id": "1a8c7dbc-af05-40f5-a1ac-94fcfb11773c",
   "metadata": {},
   "outputs": [],
   "source": [
    "# 일정 이상 오르면 GRID 리셋\n"
   ]
  },
  {
   "cell_type": "code",
   "execution_count": null,
   "id": "9d40d068-b408-4d34-87f6-f7f0912a7595",
   "metadata": {},
   "outputs": [],
   "source": []
  },
  {
   "cell_type": "code",
   "execution_count": null,
   "id": "6b85d740-16b7-43cd-b802-464dcd9babfb",
   "metadata": {},
   "outputs": [],
   "source": []
  },
  {
   "cell_type": "code",
   "execution_count": 8,
   "id": "1eaec7f3-3808-470c-aa04-c5adeab0c176",
   "metadata": {},
   "outputs": [
    {
     "name": "stdout",
     "output_type": "stream",
     "text": [
      "[]\n"
     ]
    }
   ],
   "source": [
    "# 미체결 주문 모두 취소\n",
    "order_list = upbit.get_order(f\"KRW-{COIN}\")\n",
    "\n",
    "for order in order_list:\n",
    "    ret_cancel = upbit.cancel_order(order[\"uuid\"])\n",
    "    time.sleep(0.1)\n",
    "    \n",
    "print(upbit.get_order(f\"KRW-{COIN}\"))"
   ]
  },
  {
   "cell_type": "code",
   "execution_count": null,
   "id": "e45da94d-6362-4b8a-bb37-0af2fb290252",
   "metadata": {},
   "outputs": [],
   "source": []
  }
 ],
 "metadata": {
  "kernelspec": {
   "display_name": "Python 3 (ipykernel)",
   "language": "python",
   "name": "python3"
  },
  "language_info": {
   "codemirror_mode": {
    "name": "ipython",
    "version": 3
   },
   "file_extension": ".py",
   "mimetype": "text/x-python",
   "name": "python",
   "nbconvert_exporter": "python",
   "pygments_lexer": "ipython3",
   "version": "3.7.6"
  },
  "toc-autonumbering": true
 },
 "nbformat": 4,
 "nbformat_minor": 5
}
