{
 "cells": [
  {
   "cell_type": "code",
   "execution_count": 10,
   "id": "375bd8f6-33a4-4577-8979-6ffa90e150cf",
   "metadata": {},
   "outputs": [],
   "source": [
    "from grid_trade import *\n",
    "import pyupbit"
   ]
  },
  {
   "cell_type": "code",
   "execution_count": 4,
   "id": "18637ef8-488a-4e04-95a7-fb2c17500b43",
   "metadata": {},
   "outputs": [],
   "source": [
    "# 지정 파라미터\n",
    "\n",
    "MODE = \"Geometric\" # Arithmetic: 동일한 가격 차이 / Geometric: 동일한 가격 비율 차이\n",
    "GRIDS = 5 # 그리드 수\n",
    "COIN = \"BTC\" # 거래할 코인\n",
    "BUDGET = 80000 # 사용할 예산\n",
    "INTERVAL = 30 # 변동성 계산할 때 몇분 봉 사용\n",
    "STD_NUM = 40 # 변동성 계산할 때 과거 몇개 사용\n",
    "LOWER_STD = 3 # 하한선 변동성 배수\n",
    "\n",
    "STOP_LOSS = 10 # 손절매 퍼센트\n",
    "RESET_GRID = 5 # 계속 상승할 경우 그리드 리셋하는 퍼센트"
   ]
  },
  {
   "cell_type": "code",
   "execution_count": 6,
   "id": "7ed0f87a-2e9c-47b7-95e2-abb252f56e8a",
   "metadata": {},
   "outputs": [
    {
     "name": "stdout",
     "output_type": "stream",
     "text": [
      "연결성공\n",
      "[{'currency': 'KRW', 'balance': '98408.49392041', 'locked': '0.0', 'avg_buy_price': '0', 'avg_buy_price_modified': True, 'unit_currency': 'KRW'}]\n"
     ]
    }
   ],
   "source": [
    "key_path = \"upbit_key.txt\"\n",
    "\n",
    "# trading bot 생성\n",
    "bot = trading_bot(key_path)"
   ]
  },
  {
   "cell_type": "code",
   "execution_count": 11,
   "id": "d19611bd-e727-45ba-bd54-abaa79de7c3f",
   "metadata": {},
   "outputs": [
    {
     "name": "stdout",
     "output_type": "stream",
     "text": [
      "2022-06-22 16:44:44\n",
      "\n",
      "BTC 현재가(KRW): 26374000.0\n",
      "호가단위(KRW): 1000\n",
      "30분봉 40개 변동성: 468406.91\n",
      "Lower Std: 3\n",
      "Levels: [24968000, 25243000, 25521000, 25802000, 26086000]\n",
      "Volume(BTC): 0.00060665\n",
      "Difference(%): 1.10%\n",
      "수익률: 1.10%\n",
      "{'bid': ['24968000.0', '25243000.0', '25521000.0', '25802000.0', '26086000.0'], 'ask': []}\n"
     ]
    },
    {
     "ename": "KeyboardInterrupt",
     "evalue": "",
     "output_type": "error",
     "traceback": [
      "\u001b[1;31m---------------------------------------------------------------------------\u001b[0m",
      "\u001b[1;31mKeyboardInterrupt\u001b[0m                         Traceback (most recent call last)",
      "\u001b[1;32m~\\AppData\\Local\\Temp/ipykernel_3372/2187970273.py\u001b[0m in \u001b[0;36m<module>\u001b[1;34m\u001b[0m\n\u001b[0;32m     10\u001b[0m \u001b[1;33m\u001b[0m\u001b[0m\n\u001b[0;32m     11\u001b[0m \u001b[1;32mwhile\u001b[0m \u001b[1;32mTrue\u001b[0m\u001b[1;33m:\u001b[0m\u001b[1;33m\u001b[0m\u001b[1;33m\u001b[0m\u001b[0m\n\u001b[1;32m---> 12\u001b[1;33m     \u001b[0mtime\u001b[0m\u001b[1;33m.\u001b[0m\u001b[0msleep\u001b[0m\u001b[1;33m(\u001b[0m\u001b[1;36m0.5\u001b[0m\u001b[1;33m)\u001b[0m \u001b[1;31m# 0.5초마다 업데이트\u001b[0m\u001b[1;33m\u001b[0m\u001b[1;33m\u001b[0m\u001b[0m\n\u001b[0m\u001b[0;32m     13\u001b[0m \u001b[1;33m\u001b[0m\u001b[0m\n\u001b[0;32m     14\u001b[0m     \u001b[0mcurrent\u001b[0m \u001b[1;33m=\u001b[0m \u001b[0mpyupbit\u001b[0m\u001b[1;33m.\u001b[0m\u001b[0mget_current_price\u001b[0m\u001b[1;33m(\u001b[0m\u001b[1;34mf\"KRW-{COIN}\"\u001b[0m\u001b[1;33m)\u001b[0m \u001b[1;31m# 현재 코인 가격\u001b[0m\u001b[1;33m\u001b[0m\u001b[1;33m\u001b[0m\u001b[0m\n",
      "\u001b[1;31mKeyboardInterrupt\u001b[0m: "
     ]
    }
   ],
   "source": [
    "# 초기 환경 세팅\n",
    "levels, diff, volume = bot.get_evn(COIN, MODE, GRIDS, BUDGET, INTERVAL, STD_NUM, LOWER_STD)\n",
    "\n",
    "# 전체 주문 취소\n",
    "bot.cancel_all_order(COIN)\n",
    "\n",
    "# 초기 매수 주문\n",
    "bot.levels_order(COIN, volume, levels)\n",
    "print(bot.get_open_price(COIN))\n",
    "\n",
    "while True:\n",
    "    time.sleep(0.5) # 0.5초마다 업데이트\n",
    "    \n",
    "    current = pyupbit.get_current_price(f\"KRW-{COIN}\") # 현재 코인 가격\n",
    "    avg_price = bot.get_avg(COIN) # 현재 평단가 가져오기\n",
    "    \n",
    "    \n",
    "    # 수익률이 STOP_LOSS 보다 작을 경우 모두 시장가로 청산\n",
    "    if avg_price != None:\n",
    "        # 현재 가격과 비교해서 수익률 계산\n",
    "        profit = (current-avg_price)/avg_price*100\n",
    "        if profit < -STOP_LOSS:\n",
    "            print(\"**STOP LOSS 실행**\")\n",
    "            print(f\"{COIN} 현재가(KRW): {current}\")\n",
    "            print(f\"{COIN} 평단가(KRW): {avg_price}\")\n",
    "            print(f\"현재 손익: {profit:.2f}%\")\n",
    "            \n",
    "            # 모든 주문 취소\n",
    "            bot.cancel_all_order(COIN)\n",
    "            # 모든 코인 시장가 매도\n",
    "            bot.sell_all_market(COIN)\n",
    "            \n",
    "            print(\"종료\")\n",
    "            break\n",
    "            \n",
    "            \n",
    "    # 가격이 일정 기준 이상 오르면 GRID 리셋\n",
    "    if (current-levels[-1])/levels[-1]*100 > RESET_GRID:\n",
    "        print(\"**GRID 리셋**\")\n",
    "        # 모든 주문 취소\n",
    "        bot.cancel_all_order(COIN)\n",
    "\n",
    "        # 현재 가격에 맞춰서 levels 다시 설정\n",
    "        levels, diff, volume = bot.get_evn(COIN, MODE, GRIDS, BUDGET, INTERVAL, STD_NUM, LOWER_STD)\n",
    "\n",
    "        # 초기 매수 주문 다시 넣기\n",
    "        bot.levels_order(coin, volume, levels)\n",
    "    \n",
    "    \n",
    "    # 미체결 주문수가 GRIDS와 다르면 추가 주문\n",
    "    now_open = len(bot.upbit.get_order(f\"KRW-{COIN}\")) # 현재 미체결 주문수\n",
    "    if GRIDS != now_open:\n",
    "        balance_coin = bot.upbit.get_balance(COIN) # 코인 보유량으로 매수 매도 판단\n",
    "        last_price = pyupbit.get_current_price(f\"KRW-{COIN}\") # 최근 체결 가격\n",
    "        \n",
    "        if balance_coin != 0: # 보유량이 0이 아니면 최근 체결은 매수\n",
    "            side = \"bid\"\n",
    "            if MODE == \"Arithmetic\": # MODE가 Arithmetic이면 목표가는 diff 만큼 더한 값\n",
    "                price = last_price + diff \n",
    "            else: # MODE가 GEOMETRIC이면 매도 목표가는 diff 만큼 곱한 값\n",
    "                price = last_price * diff \n",
    "            price = pyupbit.get_tick_size(price)\n",
    "            ret = bot.upbit.sell_limit_order(f\"KRW-{COIN}\", price, volume)\n",
    "            \n",
    "        else: # 보유량이 0이면 최근 체결은 매도\n",
    "            side = \"ask\"\n",
    "            if MODE == \"Arithmetic\": # MODE가 Arithmetic이면 목표가는 diff 만큼 뺀 값\n",
    "                price = last_price - diff \n",
    "            else: # MODE가 GEOMETRIC이면 매도 목표가는 diff 만큼 나눈 값\n",
    "                price = last_price / diff \n",
    "            price = pyupbit.get_tick_size(price)\n",
    "            ret = bot.upbit.buy_limit_order(f\"KRW-{COIN}\", price, volume)\n",
    "        \n",
    "        # 에러 발생시 message 출력\n",
    "        if 'error' in ret.keys():\n",
    "            print(ret['error']['message'])\n",
    "            \n",
    "        # 최근 체결 정보 표시\n",
    "        else:\n",
    "            print(\"\")\n",
    "            print(datetime.datetime.now().strftime('%Y-%m-%d %H:%M:%S'))\n",
    "            print(f\"{side} -> {last_price}KRW  {volume}{COIN} 체결\")\n",
    "            print(bot.get_open_price(COIN))"
   ]
  },
  {
   "cell_type": "code",
   "execution_count": 13,
   "id": "6f922740-14e1-4d8a-95a6-3b2d42d517b6",
   "metadata": {},
   "outputs": [],
   "source": [
    "# 전체 주문 취소\n",
    "bot.cancel_all_order(COIN)"
   ]
  },
  {
   "cell_type": "code",
   "execution_count": null,
   "id": "cf6ba677-6f38-4af1-8bb5-f7cd6b99db44",
   "metadata": {},
   "outputs": [],
   "source": []
  }
 ],
 "metadata": {
  "kernelspec": {
   "display_name": "Python 3 (ipykernel)",
   "language": "python",
   "name": "python3"
  },
  "language_info": {
   "codemirror_mode": {
    "name": "ipython",
    "version": 3
   },
   "file_extension": ".py",
   "mimetype": "text/x-python",
   "name": "python",
   "nbconvert_exporter": "python",
   "pygments_lexer": "ipython3",
   "version": "3.7.6"
  },
  "toc-autonumbering": true
 },
 "nbformat": 4,
 "nbformat_minor": 5
}
